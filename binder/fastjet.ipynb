{
 "cells": [
  {
   "cell_type": "code",
   "execution_count": 4,
   "id": "49aae7e3",
   "metadata": {},
   "outputs": [],
   "source": [
    "import time\n",
    "import numpy as np\n",
    "import pandas as pd\n",
    "import matplotlib\n",
    "import matplotlib.pyplot as plt\n",
    "import matplotlib.colors as mcolors\n",
    "import mplhep as hep\n",
    "\n",
    "import pickle as pkl\n",
    "import sys\n",
    "sys.path.insert(0,'..')\n",
    "from models import ParticleNet\n",
    "import torch\n",
    "import torch.nn as nn\n",
    "from torch_geometric.loader import DataListLoader, DataLoader\n",
    "from torch_geometric.data import Data, Batch\n",
    "\n",
    "import numpy as np\n",
    "import matplotlib.pyplot as plt\n",
    "from itertools import cycle\n",
    "\n",
    "from sklearn import svm, datasets\n",
    "from sklearn.metrics import roc_curve, auc\n",
    "from sklearn.model_selection import train_test_split\n",
    "from sklearn.preprocessing import label_binarize\n",
    "from sklearn.multiclass import OneVsRestClassifier\n",
    "from sklearn.metrics import roc_auc_score\n",
    "%matplotlib inline\n",
    "\n",
    "import mplhep as hep\n",
    "plt.style.use(hep.style.CMS)\n",
    "plt.rcParams.update({'font.size': 20})\n",
    "\n",
    "import awkward as ak\n",
    "import fastjet\n",
    "import vector"
   ]
  },
  {
   "cell_type": "code",
   "execution_count": 8,
   "id": "df237ab9",
   "metadata": {},
   "outputs": [],
   "source": [
    "datapath = '/xai4hepvol/toptagging/test/raw/test.h5'"
   ]
  },
  {
   "cell_type": "code",
   "execution_count": 68,
   "id": "288e85f9",
   "metadata": {},
   "outputs": [
    {
     "name": "stdout",
     "output_type": "stream",
     "text": [
      "df['is_signal_new'].values=array([1, 1])\n"
     ]
    }
   ],
   "source": [
    "N_SUBJETS = 3\n",
    "\n",
    "LABEL = {}\n",
    "LABEL[fastjet.kt_algorithm] = \"$k_{{\\mathrm{{T}}}}$\"\n",
    "LABEL[fastjet.antikt_algorithm] = \"anti-$k_{{\\mathrm{{T}}}}$\"\n",
    "LABEL[fastjet.cambridge_algorithm] = \"CA\"\n",
    "\n",
    "JET_ALGO = fastjet.kt_algorithm\n",
    "\n",
    "jetdef = fastjet.JetDefinition(JET_ALGO, 0.8)\n",
    "\n",
    "df = pd.read_hdf(f\"{datapath}\", key=\"table\", start=1000, stop=1002)\n",
    "print(f\"{df['is_signal_new'].values=}\")\n",
    "\n",
    "\n",
    "def _col_list(prefix, max_particles=200):\n",
    "    return [\"%s_%d\" % (prefix, i) for i in range(max_particles)]\n",
    "\n",
    "\n",
    "vector.register_awkward()\n",
    "px = ak.from_regular(ak.from_numpy(df[_col_list(\"PX\")].values), axis=-1)\n",
    "py = ak.from_regular(ak.from_numpy(df[_col_list(\"PY\")].values), axis=-1)\n",
    "pz = ak.from_regular(ak.from_numpy(df[_col_list(\"PZ\")].values), axis=-1)\n",
    "e = ak.from_regular(ak.from_numpy(df[_col_list(\"E\")].values), axis=-1)\n",
    "mask = e > 0"
   ]
  },
  {
   "cell_type": "code",
   "execution_count": null,
   "id": "e1b6bc28",
   "metadata": {},
   "outputs": [],
   "source": []
  },
  {
   "cell_type": "code",
   "execution_count": null,
   "id": "68e708c7",
   "metadata": {},
   "outputs": [],
   "source": [
    "n_jets = 10\n",
    "for jet_idx in range(n_jets):\n",
    "    px = ak.from_regular(ak.from_numpy(px[jet_idx]), axis=-1)\n",
    "    py = ak.from_regular(ak.from_numpy(py[jet_idx]), axis=-1)\n",
    "    pz = ak.from_regular(ak.from_numpy(pz[jet_idx]), axis=-1)\n",
    "    e = ak.from_regular(ak.from_numpy(e[jet_idx]), axis=-1)\n",
    "    \n",
    "    array = ak.zip(\n",
    "    {\n",
    "        \"px\": px,\n",
    "        \"py\": py,\n",
    "        \"pz\": pz,\n",
    "        \"E\": e,\n",
    "        \"particle_idx\": ak.local_index(px),\n",
    "        \"subjet_idx\": ak.zeros_like(px, dtype=int) - 1,\n",
    "    },\n",
    "    with_name=\"Momentum4D\",\n",
    "    )\n",
    "    \n",
    "    pseudojets = []\n",
    "    for jet in array:\n",
    "        pseudojets.append(\n",
    "            [\n",
    "                fastjet.PseudoJet(particle.px, particle.py, particle.pz, particle.E)\n",
    "                for particle in jet\n",
    "            ]\n",
    "        )\n",
    "    print(f\"{len(pseudojets)=}\")\n",
    "    print(f\"{len(pseudojets[0])=}\")  \n",
    "  \n",
    "    subjet_indices = []\n",
    "    mapping = array.subjet_idx.to_list()\n",
    "    for ijet, pseudojet in enumerate(pseudojets):\n",
    "        subjet_indices.append([])\n",
    "        cluster = fastjet.ClusterSequence(pseudojet, jetdef)\n",
    "\n",
    "        # cluster jets\n",
    "        jets = cluster.inclusive_jets()\n",
    "        print(f\"{len(jets)=}\")\n",
    "        assert len(jets) == 1\n",
    "\n",
    "        # get the 3 exclusive jets\n",
    "        subjets = cluster.exclusive_subjets(jets[0], N_SUBJETS)\n",
    "        print(f\"{len(subjets)=}\")\n",
    "        assert len(subjets) == N_SUBJETS\n",
    "\n",
    "        # sort by pt\n",
    "        subjets = sorted(subjets, key=lambda x: x.pt(), reverse=True)\n",
    "\n",
    "        for subjet_idx, subjet in enumerate(subjets):\n",
    "            subjet_indices[-1].append([])\n",
    "            for subjet_const in subjet.constituents():\n",
    "                for idx, jet_const in enumerate(pseudojet):\n",
    "                    if (\n",
    "                        subjet_const.px() == jet_const.px()\n",
    "                        and subjet_const.py() == jet_const.py()\n",
    "                        and subjet_const.pz() == jet_const.pz()\n",
    "                        and subjet_const.E() == jet_const.E()\n",
    "                    ):\n",
    "                        subjet_indices[-1][-1].append(idx)\n",
    "\n",
    "        for subjet_idx, subjet in enumerate(subjets):\n",
    "            print(subjet_indices[ijet][subjet_idx])\n",
    "            local_mapping = np.array(mapping[ijet])\n",
    "            local_mapping[subjet_indices[ijet][subjet_idx]] = subjet_idx\n",
    "            mapping[ijet] = local_mapping    "
   ]
  },
  {
   "cell_type": "code",
   "execution_count": null,
   "id": "6f041ab2",
   "metadata": {},
   "outputs": [],
   "source": [
    "# update array\n",
    "# array.subjet_idx = ak.Array(mapping)\n",
    "array = ak.zip(\n",
    "    {\n",
    "        \"px\": px,\n",
    "        \"py\": py,\n",
    "        \"pz\": pz,\n",
    "        \"E\": e,\n",
    "        \"particle_idx\": ak.local_index(px),\n",
    "        \"subjet_idx\": ak.Array(mapping),\n",
    "    },\n",
    "    with_name=\"Momentum4D\",\n",
    ")"
   ]
  },
  {
   "cell_type": "code",
   "execution_count": null,
   "id": "65755370",
   "metadata": {},
   "outputs": [],
   "source": []
  },
  {
   "cell_type": "code",
   "execution_count": null,
   "id": "67560cd8",
   "metadata": {},
   "outputs": [],
   "source": []
  },
  {
   "cell_type": "code",
   "execution_count": 28,
   "id": "3034780f",
   "metadata": {},
   "outputs": [
    {
     "data": {
      "image/png": "[encoded data removed]",
      "text/plain": [
       "<Figure size 720x720 with 2 Axes>"
      ]
     },
     "metadata": {
      "needs_background": "light"
     },
     "output_type": "display_data"
    },
    {
     "data": {
      "image/png": "[encoded data removed]",
      "text/plain": [
       "<Figure size 720x720 with 2 Axes>"
      ]
     },
     "metadata": {
      "needs_background": "light"
     },
     "output_type": "display_data"
    }
   ],
   "source": [
    "\n",
    "\n",
    "import matplotlib.pyplot as plt\n",
    "import numpy as np\n",
    "import matplotlib.colors as colors\n",
    "\n",
    "for i, arr in enumerate(array):\n",
    "    fig = plt.figure()\n",
    "    jet_vector = vector.obj(\n",
    "        px=ak.sum(arr.px, axis=-1),\n",
    "        py=ak.sum(arr.py, axis=-1),\n",
    "        pz=ak.sum(arr.pz, axis=-1),\n",
    "        E=ak.sum(arr.E, axis=-1),\n",
    "    )\n",
    "    subjet_vectors = [\n",
    "        vector.obj(\n",
    "            px=ak.sum(arr.px[arr.subjet_idx == j], axis=-1),\n",
    "            py=ak.sum(arr.py[arr.subjet_idx == j], axis=-1),\n",
    "            pz=ak.sum(arr.pz[arr.subjet_idx == j], axis=-1),\n",
    "            E=ak.sum(arr.E[arr.subjet_idx == j], axis=-1),\n",
    "        )\n",
    "        for j in range(0, N_SUBJETS)\n",
    "    ]\n",
    "\n",
    "    deta = arr.deltaeta(jet_vector)\n",
    "    dphi = arr.deltaphi(jet_vector)\n",
    "    dpt = arr.pt / jet_vector.pt\n",
    "\n",
    "    for j, cmap in zip(range(0, N_SUBJETS), [\"Blues\", \"Reds\", \"Greens\", \"Purples\"]):\n",
    "        plt.scatter(\n",
    "            deta[arr.subjet_idx == j],\n",
    "            dphi[arr.subjet_idx == j],\n",
    "            c=dpt[arr.subjet_idx == j],\n",
    "            s=10,\n",
    "            norm=colors.LogNorm(vmin=0.001, vmax=0.1),\n",
    "            cmap=cmap,\n",
    "            label=f\"{LABEL[JET_ALGO]} Subjet {j} $p_{{\\mathrm{{T}}}}$={subjet_vectors[j].pt:.0f}\",\n",
    "        )\n",
    "    plt.scatter([], [], c=[], cmap=\"Greys\", norm=colors.LogNorm(vmin=0.001, vmax=0.1))\n",
    "    cbar = plt.colorbar()\n",
    "    cbar.set_label(\"$p_{\\mathrm{T}} / p_{\\mathrm{T}}^{\\mathrm{jet}}$\")\n",
    "    plt.xlabel(r\"$\\Delta\\eta$\")\n",
    "    plt.ylabel(r\"$\\Delta\\phi$\")\n",
    "    plt.ylim(-1.2, 1.2)\n",
    "    plt.xlim(-1.2, 1.2)\n",
    "    plt.legend(title=\"Top jet\" if df[\"is_signal_new\"].values[i] == 1 else \"QCD jet\")\n",
    "#     plt.savefig(f\"etaphi_{i}.pdf\")\n",
    "#     plt.savefig(f\"etaphi_{i}.png\")"
   ]
  },
  {
   "cell_type": "code",
   "execution_count": 29,
   "id": "724e26bf",
   "metadata": {},
   "outputs": [],
   "source": [
    "            deta[arr.subjet_idx == j]\n",
    ",\n",
    "            c=dpt[arr.subjet_idx == j],"
   ]
  },
  {
   "cell_type": "code",
   "execution_count": 31,
   "id": "9eb2e9ca",
   "metadata": {},
   "outputs": [
    {
     "data": {
      "text/plain": [
       "<Array [-0.0359, 0.0107, ... -0.0507, -0.277] type='26 * float32'>"
      ]
     },
     "execution_count": 31,
     "metadata": {},
     "output_type": "execute_result"
    }
   ],
   "source": [
    "            dphi[arr.subjet_idx == j]"
   ]
  },
  {
   "cell_type": "code",
   "execution_count": 34,
   "id": "ff67b10f",
   "metadata": {},
   "outputs": [
    {
     "data": {
      "text/plain": [
       "<Array [0.244, 0.00169, ... -0.417, 0.751] type='62 * float32'>"
      ]
     },
     "execution_count": 34,
     "metadata": {},
     "output_type": "execute_result"
    }
   ],
   "source": [
    "deta"
   ]
  },
  {
   "cell_type": "code",
   "execution_count": 35,
   "id": "f02ffaba",
   "metadata": {},
   "outputs": [
    {
     "data": {
      "text/plain": [
       "<Array [1, 0, 0, 0, 0, 1, ... 1, 2, 1, 0, 2, 1] type='62 * int64'>"
      ]
     },
     "execution_count": 35,
     "metadata": {},
     "output_type": "execute_result"
    }
   ],
   "source": [
    "arr.subjet_idx"
   ]
  },
  {
   "cell_type": "code",
   "execution_count": 47,
   "id": "c26b8baf",
   "metadata": {},
   "outputs": [],
   "source": []
  },
  {
   "cell_type": "code",
   "execution_count": 48,
   "id": "7cb3ec55",
   "metadata": {},
   "outputs": [],
   "source": [
    "PATH = '/xai4hepvol/ParticleNet_6/before_training'\n",
    "\n",
    "import networkx as nx\n",
    "import torch\n",
    "import torch_geometric\n",
    "import numpy as np\n",
    "import pickle as pkl\n",
    "\n",
    "with open(f'{PATH}/batch_x.pkl', 'rb') as handle:\n",
    "    batch_x_list = pkl.load(handle)\n",
    "with open(f'{PATH}/batch_y.pkl', 'rb') as handle:\n",
    "    batch_y_list = pkl.load(handle)    \n",
    "with open(f'{PATH}/Rscores.pkl', 'rb') as handle:\n",
    "    Rscores_list = pkl.load(handle)\n",
    "with open(f'{PATH}/R_edges.pkl', 'rb') as handle:\n",
    "    R_edges_list = pkl.load(handle)    \n",
    "with open(f'{PATH}/edge_index.pkl', 'rb') as handle:\n",
    "    edge_index_list = pkl.load(handle)"
   ]
  },
  {
   "cell_type": "code",
   "execution_count": 50,
   "id": "0c4912e3",
   "metadata": {},
   "outputs": [],
   "source": [
    "i = 0 \n",
    "\n",
    "batch_y = batch_y_list[i]\n",
    "#     if batch_y==score:\n",
    "\n",
    "#         if c==1:\n",
    "#             break    \n",
    "#         c +=1            \n",
    "batch_x = batch_x_list[i]\n",
    "Rscores = Rscores_list[i]\n",
    "R_edges = R_edges_list[i]\n",
    "edge_index_dic = edge_index_list[i]\n",
    "    \n",
    "eta = batch_x[:, 0]\n",
    "phi = batch_x[:, 1]\n",
    "pt = np.abs(batch_x[:, 2])\n",
    "\n",
    "eta_phi = batch_x[:, :2]"
   ]
  },
  {
   "cell_type": "code",
   "execution_count": 53,
   "id": "3476ba08",
   "metadata": {},
   "outputs": [],
   "source": [
    "pseudojet = [\n",
    "            fastjet.PseudoJet(particle.px, particle.py, particle.pz, particle.E)\n",
    "            for particle in jet\n",
    "        ]"
   ]
  },
  {
   "cell_type": "code",
   "execution_count": 56,
   "id": "df5c43fa",
   "metadata": {},
   "outputs": [],
   "source": [
    "px = pt*torch.cos(phi)\n",
    "py = pt*torch.sin(phi)\n",
    "pz = pt*torch.sinh(eta)"
   ]
  },
  {
   "cell_type": "code",
   "execution_count": 62,
   "id": "ffb883f3",
   "metadata": {},
   "outputs": [
    {
     "data": {
      "text/plain": [
       "<MomentumArray4D [{px: 86.1, ... subjet_idx: -1}] type='62 * Momentum4D[\"px\": fl...'>"
      ]
     },
     "execution_count": 62,
     "metadata": {},
     "output_type": "execute_result"
    }
   ],
   "source": [
    "jet"
   ]
  },
  {
   "cell_type": "code",
   "execution_count": 63,
   "id": "237015ac",
   "metadata": {},
   "outputs": [
    {
     "ename": "TypeError",
     "evalue": "Wrong number or type of arguments for overloaded function 'new_PseudoJet'.\n  Possible C/C++ prototypes are:\n    fastjet::PseudoJet::PseudoJet()\n    fastjet::PseudoJet::PseudoJet(double const,double const,double const,double const)\n    fastjet::PseudoJet::PseudoJet(bool)\n",
     "output_type": "error",
     "traceback": [
      "\u001b[0;31m---------------------------------------------------------------------------\u001b[0m",
      "\u001b[0;31mTypeError\u001b[0m                                 Traceback (most recent call last)",
      "Input \u001b[0;32mIn [63]\u001b[0m, in \u001b[0;36m<cell line: 1>\u001b[0;34m()\u001b[0m\n\u001b[0;32m----> 1\u001b[0m pseudojet1 \u001b[38;5;241m=\u001b[39m [\n\u001b[1;32m      2\u001b[0m             fastjet\u001b[38;5;241m.\u001b[39mPseudoJet(px[particle], py[particle], pz[particle], pz[particle])\n\u001b[1;32m      3\u001b[0m             \u001b[38;5;28;01mfor\u001b[39;00m particle \u001b[38;5;129;01min\u001b[39;00m \u001b[38;5;28mrange\u001b[39m(\u001b[38;5;28mlen\u001b[39m(px))\n\u001b[1;32m      4\u001b[0m         ]\n",
      "Input \u001b[0;32mIn [63]\u001b[0m, in \u001b[0;36m<listcomp>\u001b[0;34m(.0)\u001b[0m\n\u001b[1;32m      1\u001b[0m pseudojet1 \u001b[38;5;241m=\u001b[39m [\n\u001b[0;32m----> 2\u001b[0m             \u001b[43mfastjet\u001b[49m\u001b[38;5;241;43m.\u001b[39;49m\u001b[43mPseudoJet\u001b[49m\u001b[43m(\u001b[49m\u001b[43mpx\u001b[49m\u001b[43m[\u001b[49m\u001b[43mparticle\u001b[49m\u001b[43m]\u001b[49m\u001b[43m,\u001b[49m\u001b[43m \u001b[49m\u001b[43mpy\u001b[49m\u001b[43m[\u001b[49m\u001b[43mparticle\u001b[49m\u001b[43m]\u001b[49m\u001b[43m,\u001b[49m\u001b[43m \u001b[49m\u001b[43mpz\u001b[49m\u001b[43m[\u001b[49m\u001b[43mparticle\u001b[49m\u001b[43m]\u001b[49m\u001b[43m,\u001b[49m\u001b[43m \u001b[49m\u001b[43mpz\u001b[49m\u001b[43m[\u001b[49m\u001b[43mparticle\u001b[49m\u001b[43m]\u001b[49m\u001b[43m)\u001b[49m\n\u001b[1;32m      3\u001b[0m             \u001b[38;5;28;01mfor\u001b[39;00m particle \u001b[38;5;129;01min\u001b[39;00m \u001b[38;5;28mrange\u001b[39m(\u001b[38;5;28mlen\u001b[39m(px))\n\u001b[1;32m      4\u001b[0m         ]\n",
      "File \u001b[0;32m/opt/conda/lib/python3.9/site-packages/fastjet/_swig.py:984\u001b[0m, in \u001b[0;36mPseudoJet.__init__\u001b[0;34m(self, *args)\u001b[0m\n\u001b[1;32m    976\u001b[0m \u001b[38;5;28;01mdef\u001b[39;00m \u001b[38;5;21m__init__\u001b[39m(\u001b[38;5;28mself\u001b[39m, \u001b[38;5;241m*\u001b[39margs):\n\u001b[1;32m    977\u001b[0m     \u001b[38;5;124mr\u001b[39m\u001b[38;5;124;03m\"\"\"\u001b[39;00m\n\u001b[1;32m    978\u001b[0m \n\u001b[1;32m    979\u001b[0m \u001b[38;5;124;03m    `PseudoJet(const siscone_spherical::CSphmomentum &four_vector)`  \u001b[39;00m\n\u001b[0;32m   (...)\u001b[0m\n\u001b[1;32m    982\u001b[0m \n\u001b[1;32m    983\u001b[0m \u001b[38;5;124;03m    \"\"\"\u001b[39;00m\n\u001b[0;32m--> 984\u001b[0m     _fastjet\u001b[38;5;241m.\u001b[39mPseudoJet_swiginit(\u001b[38;5;28mself\u001b[39m, \u001b[43m_fastjet\u001b[49m\u001b[38;5;241;43m.\u001b[39;49m\u001b[43mnew_PseudoJet\u001b[49m\u001b[43m(\u001b[49m\u001b[38;5;241;43m*\u001b[39;49m\u001b[43margs\u001b[49m\u001b[43m)\u001b[49m)\n",
      "\u001b[0;31mTypeError\u001b[0m: Wrong number or type of arguments for overloaded function 'new_PseudoJet'.\n  Possible C/C++ prototypes are:\n    fastjet::PseudoJet::PseudoJet()\n    fastjet::PseudoJet::PseudoJet(double const,double const,double const,double const)\n    fastjet::PseudoJet::PseudoJet(bool)\n"
     ]
    }
   ],
   "source": [
    "pseudojet1 = [\n",
    "            fastjet.PseudoJet(px[particle], py[particle], pz[particle], pz[particle])\n",
    "            for particle in range(len(px))\n",
    "        ]"
   ]
  },
  {
   "cell_type": "code",
   "execution_count": 61,
   "id": "5a9e400f",
   "metadata": {},
   "outputs": [
    {
     "ename": "NameError",
     "evalue": "name 'particle' is not defined",
     "output_type": "error",
     "traceback": [
      "\u001b[0;31m---------------------------------------------------------------------------\u001b[0m",
      "\u001b[0;31mNameError\u001b[0m                                 Traceback (most recent call last)",
      "Input \u001b[0;32mIn [61]\u001b[0m, in \u001b[0;36m<cell line: 1>\u001b[0;34m()\u001b[0m\n\u001b[0;32m----> 1\u001b[0m px[\u001b[43mparticle\u001b[49m]\n",
      "\u001b[0;31mNameError\u001b[0m: name 'particle' is not defined"
     ]
    }
   ],
   "source": [
    "px[particle]"
   ]
  },
  {
   "cell_type": "code",
   "execution_count": null,
   "id": "8822ad8c",
   "metadata": {},
   "outputs": [],
   "source": [
    "for particle in jet:\n",
    "    "
   ]
  },
  {
   "cell_type": "code",
   "execution_count": null,
   "id": "e2010407",
   "metadata": {},
   "outputs": [],
   "source": []
  },
  {
   "cell_type": "code",
   "execution_count": null,
   "id": "678d9598",
   "metadata": {},
   "outputs": [],
   "source": [
    "array = ak.zip(\n",
    "    {\n",
    "        \"px\": px[mask],\n",
    "        \"py\": py[mask],\n",
    "        \"pz\": pz[mask],\n",
    "        \"E\": e[mask],\n",
    "        \"mask\": mask[mask],\n",
    "        \"particle_idx\": ak.local_index(px[mask]),\n",
    "        \"subjet_idx\": ak.zeros_like(px[mask], dtype=int) - 1,\n",
    "    },\n",
    "    with_name=\"Momentum4D\",\n",
    ")\n",
    "\n",
    "\n",
    "pseudojet = \n",
    "        [\n",
    "            fastjet.PseudoJet(particle.px, particle.py, particle.pz, particle.E)\n",
    "            for particle in jet\n",
    "        ]\n",
    "\n",
    "\n",
    "subjet_indices.append([])\n",
    "cluster = fastjet.ClusterSequence(pseudojet, jetdef)\n",
    "\n",
    "# cluster jets\n",
    "jets = cluster.inclusive_jets()\n",
    "print(f\"{len(jets)=}\")\n",
    "assert len(jets) == 1\n",
    "\n",
    "# get the 3 exclusive jets\n",
    "subjets = cluster.exclusive_subjets(jets[0], N_SUBJETS)\n",
    "print(f\"{len(subjets)=}\")\n",
    "assert len(subjets) == N_SUBJETS\n",
    "\n",
    "# sort by pt\n",
    "subjets = sorted(subjets, key=lambda x: x.pt(), reverse=True)\n",
    "\n",
    "for subjet_idx, subjet in enumerate(subjets):\n",
    "    subjet_indices[-1].append([])\n",
    "    for subjet_const in subjet.constituents():\n",
    "        for idx, jet_const in enumerate(pseudojet):\n",
    "            if (\n",
    "                subjet_const.px() == jet_const.px()\n",
    "                and subjet_const.py() == jet_const.py()\n",
    "                and subjet_const.pz() == jet_const.pz()\n",
    "                and subjet_const.E() == jet_const.E()\n",
    "            ):\n",
    "                subjet_indices[-1][-1].append(idx)\n",
    "\n",
    "for subjet_idx, subjet in enumerate(subjets):\n",
    "    print(subjet_indices[ijet][subjet_idx])\n",
    "    local_mapping = np.array(mapping[ijet])\n",
    "    local_mapping[subjet_indices[ijet][subjet_idx]] = subjet_idx\n",
    "    mapping[ijet] = local_mapping"
   ]
  },
  {
   "cell_type": "code",
   "execution_count": null,
   "id": "107e0438",
   "metadata": {},
   "outputs": [],
   "source": []
  },
  {
   "cell_type": "code",
   "execution_count": null,
   "id": "94298bc5",
   "metadata": {},
   "outputs": [],
   "source": []
  }
 ],
 "metadata": {
  "kernelspec": {
   "display_name": "Python 3 (ipykernel)",
   "language": "python",
   "name": "python3"
  },
  "language_info": {
   "codemirror_mode": {
    "name": "ipython",
    "version": 3
   },
   "file_extension": ".py",
   "mimetype": "text/x-python",
   "name": "python",
   "nbconvert_exporter": "python",
   "pygments_lexer": "ipython3",
   "version": "3.9.10"
  }
 },
 "nbformat": 4,
 "nbformat_minor": 5
}
