{
 "cells": [
  {
   "cell_type": "markdown",
   "metadata": {},
   "source": [
    "# This notebook\n",
    "- builds a toy dataset with one highly discriminatory feature\n",
    "- confirms that `lrp` picks up the discriminatory feature as highly relevant\n",
    "- compares the `lrp` implemented in `captum` against farouk's implementation"
   ]
  },
  {
   "cell_type": "code",
   "execution_count": 8,
   "metadata": {},
   "outputs": [],
   "source": [
    "import pickle as pkl\n",
    "import os.path as osp\n",
    "import os\n",
    "import sys\n",
    "from glob import glob\n",
    "from lrp.explainer import FFN, LRP\n",
    "\n",
    "import captum.attr\n",
    "import random\n",
    "\n",
    "import numpy as np\n",
    "import mplhep as hep\n",
    "import pandas as pd\n",
    "\n",
    "import torch\n",
    "import torch_geometric\n",
    "\n",
    "import torch.nn as nn\n",
    "import torch.nn.functional as F\n",
    "from torch.nn import Sequential as Seq, Linear as Lin, ReLU\n",
    "from sklearn.metrics import accuracy_score\n",
    "import matplotlib.pyplot as plt\n",
    "from torch_geometric.data import Data, DataLoader, DataListLoader, Batch\n",
    "%matplotlib inline\n",
    "\n",
    "device = 'cpu'"
   ]
  },
  {
   "cell_type": "code",
   "execution_count": 9,
   "metadata": {},
   "outputs": [
    {
     "name": "stderr",
     "output_type": "stream",
     "text": [
      "/opt/anaconda3/envs/xai/lib/python3.8/site-packages/torch_geometric/deprecation.py:13: UserWarning: 'data.DataLoader' is deprecated, use 'loader.DataLoader' instead\n",
      "  warnings.warn(out)\n"
     ]
    }
   ],
   "source": [
    "# build toy dataset\n",
    "# only 2 classes (binary classification)\n",
    "class1_y = np.zeros([1000, 1])\n",
    "class2_y = np.ones([1000, 1])\n",
    "\n",
    "# model should pick feature # 2 as the discriminant feature (more relevant)\n",
    "class1_x1 = np.random.uniform(low=0.0, high=1.0, size=1000)\n",
    "class2_x1 = np.random.uniform(low=0.0, high=1.0, size=1000)\n",
    "\n",
    "class1_x2 = np.random.uniform(low=0.0, high=1.0, size=1000)\n",
    "class2_x2 = np.random.uniform(low=-1.0, high=0.0, size=1000)\n",
    "\n",
    "class1_x3 = np.random.uniform(low=0.0, high=1.0, size=1000)\n",
    "class2_x3 = np.random.uniform(low=0.0, high=1.0, size=1000)\n",
    "\n",
    "# build loaders\n",
    "x1_all = np.concatenate([class1_x1, class2_x1]).reshape(-1, 1)\n",
    "x2_all = np.concatenate([class1_x2, class2_x2]).reshape(-1, 1)\n",
    "x3_all = np.concatenate([class1_x3, class2_x3]).reshape(-1, 1)\n",
    "\n",
    "y_all = np.concatenate([class1_y, class2_y]).reshape(-1, 1)\n",
    "\n",
    "dataset = np.concatenate([x1_all, x2_all, x3_all, y_all], axis=1)\n",
    "np.random.shuffle(dataset)\n",
    "\n",
    "dataset = torch.from_numpy(dataset)\n",
    "train_dataset = dataset[:1500]\n",
    "valid_dataset = dataset[1500:]\n",
    "\n",
    "train_loader = DataLoader(train_dataset, batch_size=4, shuffle=True)\n",
    "valid_loader = DataLoader(valid_dataset, batch_size=4, shuffle=True)"
   ]
  },
  {
   "cell_type": "code",
   "execution_count": 10,
   "metadata": {},
   "outputs": [
    {
     "name": "stdout",
     "output_type": "stream",
     "text": [
      "   feature1  feature2  feature3  class\n",
      "0  0.124479 -0.976161  0.756241    1.0\n",
      "1  0.251389 -0.906430  0.049930    1.0\n",
      "2  0.443295  0.003877  0.254613    0.0\n",
      "3  0.405496  0.398705  0.629747    0.0\n"
     ]
    }
   ],
   "source": [
    "# notice feature 2 is the discriminatory feature\n",
    "# it's positive for class 0 and negative for class 1\n",
    "for batch in train_loader:\n",
    "    df = pd.DataFrame({'feature1': batch[:, 0], 'feature2': batch[:, 1], 'feature3': batch[:, 2], 'class': batch[:, 3]})\n",
    "    print(df)\n",
    "    break"
   ]
  },
  {
   "cell_type": "code",
   "execution_count": 11,
   "metadata": {},
   "outputs": [
    {
     "data": {
      "text/plain": [
       "FFN(\n",
       "  (nn1): Sequential(\n",
       "    (0): Linear(in_features=3, out_features=256, bias=True)\n",
       "    (1): ReLU()\n",
       "    (2): Linear(in_features=256, out_features=256, bias=True)\n",
       "    (3): ReLU()\n",
       "    (4): Linear(in_features=256, out_features=40, bias=True)\n",
       "  )\n",
       "  (nn2): Sequential(\n",
       "    (0): Linear(in_features=43, out_features=256, bias=True)\n",
       "    (1): ReLU()\n",
       "    (2): Linear(in_features=256, out_features=2, bias=True)\n",
       "  )\n",
       ")"
      ]
     },
     "execution_count": 11,
     "metadata": {},
     "output_type": "execute_result"
    }
   ],
   "source": [
    "model = FFN()\n",
    "model.train()"
   ]
  },
  {
   "cell_type": "code",
   "execution_count": 12,
   "metadata": {},
   "outputs": [
    {
     "name": "stdout",
     "output_type": "stream",
     "text": [
      "Epoch 0\n",
      "Epoch 1\n",
      "Epoch 2\n",
      "Epoch 3\n",
      "Epoch 4\n",
      "Epoch 5\n",
      "Epoch 6\n",
      "Epoch 7\n",
      "Epoch 8\n",
      "Epoch 9\n"
     ]
    }
   ],
   "source": [
    "def train(model, epochs):\n",
    "\n",
    "    optimizer = torch.optim.Adam(model.parameters(), lr=0.001)\n",
    "\n",
    "    losses, accuracies = [], []\n",
    "    losses_val, accuracies_val = [], []\n",
    "\n",
    "    for epoch in range(epochs):\n",
    "        print(f'Epoch {epoch}')\n",
    "        losses_batch, accuracies_batch = [], []\n",
    "        losses_batch_val, accuracies_batch_val = [], []\n",
    "\n",
    "        model.train()\n",
    "        for i, batch in enumerate(train_loader):\n",
    "            X = batch[:, :-1]\n",
    "            Y = batch[:, -1]\n",
    "\n",
    "            # Forwardprop\n",
    "            preds = model(X.float())\n",
    "\n",
    "            loss = torch.nn.functional.cross_entropy(preds.float(), Y.long())\n",
    "\n",
    "            optimizer.zero_grad()\n",
    "            loss.backward()\n",
    "            optimizer.step()\n",
    "\n",
    "            losses_batch.append(loss.detach().cpu().item())\n",
    "            accuracies_batch.append(accuracy_score(Y, preds.max(axis=1).indices))\n",
    "        losses.append(np.mean(losses_batch))\n",
    "        accuracies.append(np.mean(accuracies_batch))\n",
    "\n",
    "        model.eval()\n",
    "        for i, batch in enumerate(valid_loader):\n",
    "            X = batch[:, :-1]\n",
    "            Y = batch[:, -1]\n",
    "\n",
    "            # Forwardprop\n",
    "            preds = model(X.float())\n",
    "\n",
    "            loss_val = torch.nn.functional.cross_entropy(preds.float(), Y.long())\n",
    "\n",
    "            losses_batch_val.append(loss_val.detach().cpu().item())\n",
    "            accuracies_batch_val.append(accuracy_score(Y, preds.max(axis=1).indices))\n",
    "\n",
    "        losses_val.append(np.mean(losses_batch_val))\n",
    "        accuracies_val.append(np.mean(accuracies_batch_val))\n",
    "    torch.save(model.state_dict(), \"weights.pth\")\n",
    "    return losses, accuracies, losses_val, accuracies_val\n",
    "\n",
    "losses, accuracies, losses_val, accuracies_val = train(model, 10)"
   ]
  },
  {
   "cell_type": "code",
   "execution_count": 13,
   "metadata": {
    "scrolled": true
   },
   "outputs": [
    {
     "data": {
      "text/plain": [
       "Text(0.5, 0, 'epoch')"
      ]
     },
     "execution_count": 13,
     "metadata": {},
     "output_type": "execute_result"
    },
    {
     "data": {
      "image/png": "[encoded data removed]",
      "text/plain": [
       "<Figure size 432x288 with 1 Axes>"
      ]
     },
     "metadata": {
      "needs_background": "light"
     },
     "output_type": "display_data"
    }
   ],
   "source": [
    "plt.scatter(np.arange(0, len(accuracies_val)), accuracies_val)\n",
    "plt.ylabel(\"valid accuracy\")\n",
    "plt.xlabel(\"epoch\")"
   ]
  },
  {
   "cell_type": "markdown",
   "metadata": {},
   "source": [
    "## Captum's `lrp`"
   ]
  },
  {
   "cell_type": "code",
   "execution_count": 14,
   "metadata": {},
   "outputs": [],
   "source": [
    "# load the trained model for lrp\n",
    "model = FFN()\n",
    "state_dict = torch.load(\"weights.pth\", map_location=device)\n",
    "model.load_state_dict(state_dict)\n",
    "\n",
    "lrp_model = captum.attr.LRP(model)"
   ]
  },
  {
   "cell_type": "code",
   "execution_count": 23,
   "metadata": {},
   "outputs": [],
   "source": [
    "# get R_scores for output node 0\n",
    "R_captum = lrp_model.attribute(valid_dataset[:, :-1].float(), target=0)"
   ]
  },
  {
   "cell_type": "code",
   "execution_count": 25,
   "metadata": {},
   "outputs": [
    {
     "data": {
      "text/plain": [
       "torch.Size([500, 3])"
      ]
     },
     "execution_count": 25,
     "metadata": {},
     "output_type": "execute_result"
    }
   ],
   "source": [
    "R_captum.shape   ### 500 for the number of samples, 3 for the input features"
   ]
  },
  {
   "cell_type": "code",
   "execution_count": 65,
   "metadata": {},
   "outputs": [
    {
     "data": {
      "text/plain": [
       "tensor([[-1.1746e-02,  9.7916e+00, -7.0045e-01],\n",
       "        [-1.1673e-01,  1.5588e+01, -5.8463e-02],\n",
       "        [-3.5186e-01, -1.6327e+01,  8.3645e-01],\n",
       "        ...,\n",
       "        [-1.4744e-01,  1.2204e+01, -4.6624e-01],\n",
       "        [-5.3504e-05, -2.4148e+01,  4.0499e-01],\n",
       "        [-1.2131e-01,  2.4652e+01, -2.2948e-02]], grad_fn=<MulBackward0>)"
      ]
     },
     "execution_count": 65,
     "metadata": {},
     "output_type": "execute_result"
    }
   ],
   "source": [
    "R_captum"
   ]
  },
  {
   "cell_type": "markdown",
   "metadata": {},
   "source": [
    "## Farouk's `lrp`"
   ]
  },
  {
   "cell_type": "code",
   "execution_count": 26,
   "metadata": {},
   "outputs": [
    {
     "name": "stdout",
     "output_type": "stream",
     "text": [
      "Total number of layers (including activation layers): 8\n",
      "Explaining layer 1/8: Linear(in_features=256, out_features=2, bias=True)\n",
      "- Finished computing Rscores\n",
      "- Rscores are conserved up to relative tolerance 1e-05\n",
      "Explaining layer 2/8: ReLU()\n",
      "- skipping layer because it's an activation layer\n",
      "- Rscores do not need to be computed\n",
      "Explaining layer 3/8: Linear(in_features=43, out_features=256, bias=True)\n",
      "- Finished computing Rscores\n",
      "- Rscores are conserved up to relative tolerance 1e-05\n",
      "SKIP CONNECTION LAYER\n",
      "Explaining layer 4/8: Linear(in_features=256, out_features=40, bias=True)\n",
      "- Finished computing Rscores\n",
      "- Rscores are conserved up to relative tolerance 1e-05\n",
      "Explaining layer 5/8: ReLU()\n",
      "- skipping layer because it's an activation layer\n",
      "- Rscores do not need to be computed\n",
      "Explaining layer 6/8: Linear(in_features=256, out_features=256, bias=True)\n",
      "- Finished computing Rscores\n",
      "- Rscores are conserved up to relative tolerance 1e-05\n",
      "Explaining layer 7/8: ReLU()\n",
      "- skipping layer because it's an activation layer\n",
      "- Rscores do not need to be computed\n",
      "Explaining layer 8/8: Linear(in_features=3, out_features=256, bias=True)\n",
      "- Finished computing Rscores\n",
      "- Rscores are conserved up to relative tolerance 0.0001\n",
      "Finished explaining all layers.\n"
     ]
    }
   ],
   "source": [
    "# load the trained model\n",
    "model = FFN()\n",
    "state_dict = torch.load(\"weights.pth\", map_location=device)\n",
    "model.load_state_dict(state_dict)\n",
    "    \n",
    "lrp_instance = LRP(device, model, epsilon=1e-9)\n",
    "R_farouk = lrp_instance.explain(valid_dataset[:, :-1].float(), neuron_to_explain=0)"
   ]
  },
  {
   "cell_type": "code",
   "execution_count": 27,
   "metadata": {},
   "outputs": [
    {
     "data": {
      "text/plain": [
       "torch.Size([500, 3])"
      ]
     },
     "execution_count": 27,
     "metadata": {},
     "output_type": "execute_result"
    }
   ],
   "source": [
    "# R_scores for output node 0\n",
    "R_farouk.shape"
   ]
  },
  {
   "cell_type": "code",
   "execution_count": 66,
   "metadata": {},
   "outputs": [
    {
     "data": {
      "text/plain": [
       "tensor([[-7.3677e-01,  1.0997e+01,  1.1113e+00],\n",
       "        [-5.3716e-01,  2.0648e+01, -9.9231e-01],\n",
       "        [-2.0605e-01, -1.5387e+01, -4.5423e+00],\n",
       "        ...,\n",
       "        [ 1.5187e+01, -1.3995e+01,  1.3161e+01],\n",
       "        [ 3.2644e-03, -2.9882e+01,  9.7588e-01],\n",
       "        [-5.4253e-01,  3.0380e+01, -1.8063e+00]])"
      ]
     },
     "execution_count": 66,
     "metadata": {},
     "output_type": "execute_result"
    }
   ],
   "source": [
    "R_farouk"
   ]
  },
  {
   "cell_type": "markdown",
   "metadata": {},
   "source": [
    "# Comparison between Captum and Farouk"
   ]
  },
  {
   "cell_type": "markdown",
   "metadata": {},
   "source": [
    "<b>notice</b>: actual Rscores per sample are different"
   ]
  },
  {
   "cell_type": "code",
   "execution_count": 68,
   "metadata": {},
   "outputs": [
    {
     "name": "stdout",
     "output_type": "stream",
     "text": [
      "R_captum tensor([0.0117, 9.7916, 0.7005])\n",
      "R_farouk tensor([ 0.7368, 10.9967,  1.1113])\n"
     ]
    }
   ],
   "source": [
    "sample = 0\n",
    "print('R_captum', R_captum[sample].absolute().detach())\n",
    "print('R_farouk', R_farouk[sample].absolute())"
   ]
  },
  {
   "cell_type": "code",
   "execution_count": 69,
   "metadata": {},
   "outputs": [
    {
     "name": "stdout",
     "output_type": "stream",
     "text": [
      "R_captum tensor([ 150.3610, 8222.4287,  269.6331])\n",
      "R_farouk tensor([ 7206.3384, 18295.0840,  5705.6211])\n"
     ]
    }
   ],
   "source": [
    "# taking mean over samples\n",
    "print('R_captum', R_captum.absolute().sum(axis=0).detach())\n",
    "print('R_farouk', R_farouk.absolute().sum(axis=0))"
   ]
  },
  {
   "cell_type": "markdown",
   "metadata": {},
   "source": [
    "<b>notice</b>: R_captum and R_farouk have second feature as highly relevant"
   ]
  },
  {
   "cell_type": "code",
   "execution_count": 58,
   "metadata": {},
   "outputs": [],
   "source": [
    "# define normalization function that normalizes a given R~(500,3) over the 3 features (i.e. over dim=1)\n",
    "def norm(R):\n",
    "    return R/R.sum(axis=0)"
   ]
  },
  {
   "cell_type": "code",
   "execution_count": 72,
   "metadata": {},
   "outputs": [
    {
     "name": "stdout",
     "output_type": "stream",
     "text": [
      "R_captum tensor([0.0174, 0.9514, 0.0312])\n",
      "R_farouk tensor([0.2309, 0.5862, 0.1828])\n"
     ]
    }
   ],
   "source": [
    "# normalize over features\n",
    "print('R_captum', norm(R_captum.absolute().sum(axis=0).detach()))\n",
    "print('R_farouk', norm(R_farouk.absolute().sum(axis=0).detach()))"
   ]
  },
  {
   "cell_type": "markdown",
   "metadata": {},
   "source": [
    "## Let's now check R-score conservation"
   ]
  },
  {
   "cell_type": "code",
   "execution_count": 75,
   "metadata": {},
   "outputs": [
    {
     "name": "stdout",
     "output_type": "stream",
     "text": [
      "R_input_captum 10.808303833007812\n",
      "R_input_farouk 13.194891929626465\n",
      "R_output       13.194897651672363\n"
     ]
    }
   ],
   "source": [
    "preds = model(valid_dataset[:, :-1].float())\n",
    "\n",
    "sample = 12\n",
    "print('R_input_captum' , R_captum[sample].sum().item())\n",
    "print('R_input_farouk' , R_farouk[sample].sum().item())\n",
    "print('R_output      ', preds[sample][0].item())"
   ]
  },
  {
   "cell_type": "markdown",
   "metadata": {},
   "source": [
    "<b>notice</b>: farouk's lrp implementation conerves Rscores"
   ]
  },
  {
   "cell_type": "markdown",
   "metadata": {},
   "source": [
    "## More comparisons"
   ]
  },
  {
   "cell_type": "code",
   "execution_count": 63,
   "metadata": {},
   "outputs": [
    {
     "data": {
      "text/plain": [
       "Text(0.5, 1.0, 'Resolution of the second feature')"
      ]
     },
     "execution_count": 63,
     "metadata": {},
     "output_type": "execute_result"
    },
    {
     "data": {
      "image/png": "[encoded data removed]",
      "text/plain": [
       "<Figure size 720x720 with 1 Axes>"
      ]
     },
     "metadata": {
      "needs_background": "light"
     },
     "output_type": "display_data"
    }
   ],
   "source": [
    "# compute resolution for feature # 2 for output node 0\n",
    "Rf =  R_farouk[:, 1].absolute().detach()\n",
    "Rc = R_captum[:, 1].absolute().detach()\n",
    "\n",
    "res = (Rf - Rc)/ Rc\n",
    "plt.style.use(hep.style.ROOT)\n",
    "plt.hist(res, np.linspace(-3,3));\n",
    "plt.ylabel('R_Scores')\n",
    "plt.xlabel('(R_farouk - R_captum) / R_captum')\n",
    "plt.title('Resolution of the second feature')"
   ]
  },
  {
   "cell_type": "code",
   "execution_count": 64,
   "metadata": {},
   "outputs": [
    {
     "data": {
      "text/plain": [
       "Text(0.5, 1.0, 'Resolution of second feature \\n after normalization')"
      ]
     },
     "execution_count": 64,
     "metadata": {},
     "output_type": "execute_result"
    },
    {
     "data": {
      "image/png": "[encoded data removed]",
      "text/plain": [
       "<Figure size 720x720 with 1 Axes>"
      ]
     },
     "metadata": {
      "needs_background": "light"
     },
     "output_type": "display_data"
    }
   ],
   "source": [
    "# normalizing first\n",
    "Rf = norm(R_farouk.absolute().detach())[:, 1]\n",
    "Rc = norm(R_captum.absolute().detach())[:, 1]\n",
    "\n",
    "# compute resolution for feature # 2 for output node 0\n",
    "res = (Rf - Rc) / Rc\n",
    "plt.style.use(hep.style.ROOT)\n",
    "plt.hist(res, np.linspace(-3,3));\n",
    "plt.ylabel('R_Scores')\n",
    "plt.xlabel('(R_farouk - R_captum) / R_captum')\n",
    "plt.title('Resolution of second feature \\n after normalization')"
   ]
  },
  {
   "cell_type": "markdown",
   "metadata": {},
   "source": [
    "## Conclusion:\n",
    "- `lrp` by captum and `lrp` by farouk give similar but not exact results\n",
    "- we notice that farouk's implementation conserves Rscores better than captum's\n",
    "- we notice that farouk's implementation is a little slower which suggests that captum's implementation might be using faster approximate methods yielding slightly inexact results\n",
    "\n",
    "### Notes:\n",
    "- I have further tested this for a bigger toy dataset with more than one discrimantory feature and the conclusion is almost the same"
   ]
  }
 ],
 "metadata": {
  "kernelspec": {
   "display_name": "xai",
   "language": "python",
   "name": "xai"
  },
  "language_info": {
   "codemirror_mode": {
    "name": "ipython",
    "version": 3
   },
   "file_extension": ".py",
   "mimetype": "text/x-python",
   "name": "python",
   "nbconvert_exporter": "python",
   "pygments_lexer": "ipython3",
   "version": "3.8.3"
  }
 },
 "nbformat": 4,
 "nbformat_minor": 4
}
